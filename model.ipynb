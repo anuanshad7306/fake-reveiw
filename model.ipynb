{
 "cells": [
  {
   "cell_type": "code",
   "execution_count": 1,
   "id": "689bf8aa",
   "metadata": {},
   "outputs": [],
   "source": [
    "from sklearn.preprocessing import LabelEncoder\n",
    "from sklearn.model_selection import train_test_split\n",
    "from sklearn.feature_extraction.text import TfidfVectorizer\n",
    "from sklearn.metrics import accuracy_score, precision_score, recall_score, f1_score\n",
    "from sklearn.linear_model import LogisticRegression\n",
    "from sklearn.naive_bayes import MultinomialNB\n",
    "from sklearn.svm import SVC\n",
    "from sklearn.ensemble import RandomForestClassifier\n",
    "from xgboost import XGBClassifier\n",
    "import time\n",
    "import joblib\n",
    "import pandas as pd\n",
    "import seaborn as sns\n",
    "import matplotlib.pyplot as plt"
   ]
  },
  {
   "cell_type": "code",
   "execution_count": 2,
   "id": "d0ff0ca2",
   "metadata": {},
   "outputs": [
    {
     "name": "stdout",
     "output_type": "stream",
     "text": [
      "Requirement already satisfied: seaborn in c:\\users\\pc\\downloads\\reviewsleuth-fake-product-review-detector-main\\amal.env\\lib\\site-packages (0.13.2)\n",
      "Requirement already satisfied: numpy!=1.24.0,>=1.20 in c:\\users\\pc\\downloads\\reviewsleuth-fake-product-review-detector-main\\amal.env\\lib\\site-packages (from seaborn) (2.2.5)\n",
      "Requirement already satisfied: pandas>=1.2 in c:\\users\\pc\\downloads\\reviewsleuth-fake-product-review-detector-main\\amal.env\\lib\\site-packages (from seaborn) (2.2.3)\n",
      "Requirement already satisfied: matplotlib!=3.6.1,>=3.4 in c:\\users\\pc\\downloads\\reviewsleuth-fake-product-review-detector-main\\amal.env\\lib\\site-packages (from seaborn) (3.10.1)\n",
      "Requirement already satisfied: contourpy>=1.0.1 in c:\\users\\pc\\downloads\\reviewsleuth-fake-product-review-detector-main\\amal.env\\lib\\site-packages (from matplotlib!=3.6.1,>=3.4->seaborn) (1.3.2)\n",
      "Requirement already satisfied: cycler>=0.10 in c:\\users\\pc\\downloads\\reviewsleuth-fake-product-review-detector-main\\amal.env\\lib\\site-packages (from matplotlib!=3.6.1,>=3.4->seaborn) (0.12.1)\n",
      "Requirement already satisfied: fonttools>=4.22.0 in c:\\users\\pc\\downloads\\reviewsleuth-fake-product-review-detector-main\\amal.env\\lib\\site-packages (from matplotlib!=3.6.1,>=3.4->seaborn) (4.57.0)\n",
      "Requirement already satisfied: kiwisolver>=1.3.1 in c:\\users\\pc\\downloads\\reviewsleuth-fake-product-review-detector-main\\amal.env\\lib\\site-packages (from matplotlib!=3.6.1,>=3.4->seaborn) (1.4.8)\n",
      "Requirement already satisfied: packaging>=20.0 in c:\\users\\pc\\downloads\\reviewsleuth-fake-product-review-detector-main\\amal.env\\lib\\site-packages (from matplotlib!=3.6.1,>=3.4->seaborn) (25.0)\n",
      "Requirement already satisfied: pillow>=8 in c:\\users\\pc\\downloads\\reviewsleuth-fake-product-review-detector-main\\amal.env\\lib\\site-packages (from matplotlib!=3.6.1,>=3.4->seaborn) (11.2.1)\n",
      "Requirement already satisfied: pyparsing>=2.3.1 in c:\\users\\pc\\downloads\\reviewsleuth-fake-product-review-detector-main\\amal.env\\lib\\site-packages (from matplotlib!=3.6.1,>=3.4->seaborn) (3.2.3)\n",
      "Requirement already satisfied: python-dateutil>=2.7 in c:\\users\\pc\\downloads\\reviewsleuth-fake-product-review-detector-main\\amal.env\\lib\\site-packages (from matplotlib!=3.6.1,>=3.4->seaborn) (2.9.0.post0)\n",
      "Requirement already satisfied: pytz>=2020.1 in c:\\users\\pc\\downloads\\reviewsleuth-fake-product-review-detector-main\\amal.env\\lib\\site-packages (from pandas>=1.2->seaborn) (2025.2)\n",
      "Requirement already satisfied: tzdata>=2022.7 in c:\\users\\pc\\downloads\\reviewsleuth-fake-product-review-detector-main\\amal.env\\lib\\site-packages (from pandas>=1.2->seaborn) (2025.2)\n",
      "Requirement already satisfied: six>=1.5 in c:\\users\\pc\\downloads\\reviewsleuth-fake-product-review-detector-main\\amal.env\\lib\\site-packages (from python-dateutil>=2.7->matplotlib!=3.6.1,>=3.4->seaborn) (1.17.0)\n",
      "Note: you may need to restart the kernel to use updated packages.\n"
     ]
    },
    {
     "name": "stderr",
     "output_type": "stream",
     "text": [
      "\n",
      "[notice] A new release of pip is available: 24.0 -> 25.1\n",
      "[notice] To update, run: python.exe -m pip install --upgrade pip\n"
     ]
    }
   ],
   "source": [
    "pip install seaborn"
   ]
  },
  {
   "cell_type": "code",
   "execution_count": 3,
   "id": "4a6d1978",
   "metadata": {},
   "outputs": [
    {
     "name": "stdout",
     "output_type": "stream",
     "text": [
      "Requirement already satisfied: xgboost in c:\\users\\pc\\downloads\\reviewsleuth-fake-product-review-detector-main\\amal.env\\lib\\site-packages (3.0.0)\n",
      "Requirement already satisfied: numpy in c:\\users\\pc\\downloads\\reviewsleuth-fake-product-review-detector-main\\amal.env\\lib\\site-packages (from xgboost) (2.2.5)\n",
      "Requirement already satisfied: scipy in c:\\users\\pc\\downloads\\reviewsleuth-fake-product-review-detector-main\\amal.env\\lib\\site-packages (from xgboost) (1.15.2)\n",
      "Note: you may need to restart the kernel to use updated packages.\n"
     ]
    },
    {
     "name": "stderr",
     "output_type": "stream",
     "text": [
      "\n",
      "[notice] A new release of pip is available: 24.0 -> 25.1\n",
      "[notice] To update, run: python.exe -m pip install --upgrade pip\n"
     ]
    }
   ],
   "source": [
    "pip install xgboost"
   ]
  },
  {
   "cell_type": "code",
   "execution_count": 4,
   "id": "25b184b4",
   "metadata": {},
   "outputs": [],
   "source": [
    "\n",
    "df = joblib.load(\"cleaned_data.pkl\")"
   ]
  },
  {
   "cell_type": "code",
   "execution_count": 5,
   "id": "24dd5919",
   "metadata": {},
   "outputs": [],
   "source": [
    "from sklearn.preprocessing import LabelEncoder\n",
    "\n",
    "\n",
    "df_encoded = df\n",
    "\n",
    "# Encode categorical columns individually (without loop)\n",
    "df_encoded['category'] = LabelEncoder().fit_transform(df['category'])\n",
    "df_encoded['promotional_language'] = df['promotional_language'].astype(int)  # Convert boolean to int\n",
    "\n",
    "# Optionally: encode 'text_' only if you're doing ID-style encoding (⚠️ not for NLP models)\n",
    "# df_encoded['text_'] = LabelEncoder().fit_transform(df['text_'])\n"
   ]
  },
  {
   "cell_type": "code",
   "execution_count": 6,
   "id": "40eee84a",
   "metadata": {},
   "outputs": [],
   "source": [
    "#split the data for train test \n",
    "from sklearn.model_selection import train_test_split\n",
    "\n",
    "X = df[\"text_\"]\n",
    "y = df[\"label\"]\n",
    "\n",
    "X_train, X_test, y_train, y_test = train_test_split(X, y, test_size=0.2, random_state=42)\n"
   ]
  },
  {
   "cell_type": "code",
   "execution_count": 7,
   "id": "3e88d6ed",
   "metadata": {},
   "outputs": [],
   "source": [
    "\n",
    "from sklearn.feature_extraction.text import TfidfVectorizer\n",
    "\n",
    "# Convert text to numeric features using TF-IDF\n",
    "tfidf = TfidfVectorizer(max_features=5000)  # You can adjust features\n",
    "X_train_tfidf = tfidf.fit_transform(X_train)\n",
    "X_test_tfidf = tfidf.transform(X_test)\n"
   ]
  },
  {
   "cell_type": "code",
   "execution_count": 8,
   "id": "3cf57e32",
   "metadata": {},
   "outputs": [],
   "source": [
    "models = {\n",
    "    \"Logistic Regression\": LogisticRegression(max_iter=1000),\n",
    "    \"Naive Bayes\": MultinomialNB(),\n",
    "    \"SVM\": SVC(),\n",
    "    \"Random Forest\": RandomForestClassifier(),\n",
    "    \"XGBoost\": XGBClassifier(use_label_encoder=False, eval_metric='mlogloss')\n",
    "}"
   ]
  },
  {
   "cell_type": "code",
   "execution_count": 9,
   "id": "31c6ab27",
   "metadata": {},
   "outputs": [
    {
     "name": "stderr",
     "output_type": "stream",
     "text": [
      "c:\\Users\\Pc\\Downloads\\ReviewSleuth-Fake-Product-Review-Detector-main\\amal.env\\Lib\\site-packages\\xgboost\\training.py:183: UserWarning: [11:14:06] WARNING: C:\\actions-runner\\_work\\xgboost\\xgboost\\src\\learner.cc:738: \n",
      "Parameters: { \"use_label_encoder\" } are not used.\n",
      "\n",
      "  bst.update(dtrain, iteration=i, fobj=obj)\n"
     ]
    }
   ],
   "source": [
    "trained_models = {}\n",
    "training_times = {}\n",
    "\n",
    "# Train models and record training times\n",
    "for name, model in models.items():\n",
    "    start = time.time()\n",
    "    model.fit(X_train_tfidf, y_train)\n",
    "    end = time.time()\n",
    "    training_times[name] = round(end - start, 2)\n",
    "    trained_models[name] = model  # Store the trained model\n"
   ]
  },
  {
   "cell_type": "code",
   "execution_count": 10,
   "id": "4e4240e9",
   "metadata": {},
   "outputs": [
    {
     "name": "stdout",
     "output_type": "stream",
     "text": [
      "                 Model  Accuracy  Precision    Recall  F1 Score  \\\n",
      "0  Logistic Regression  0.900458   0.900500  0.900458  0.900451   \n",
      "1          Naive Bayes  0.870162   0.870838  0.870162  0.870124   \n",
      "2                  SVM  0.917275   0.917415  0.917275  0.917262   \n",
      "3        Random Forest  0.878447   0.878518  0.878447  0.878447   \n",
      "4              XGBoost  0.885495   0.885558  0.885495  0.885484   \n",
      "\n",
      "   Training Time (s)  \n",
      "0               0.09  \n",
      "1               0.01  \n",
      "2             311.13  \n",
      "3              43.93  \n",
      "4              13.58  \n"
     ]
    }
   ],
   "source": [
    "# Create results DataFrame\n",
    "results = []\n",
    "for model_name, model in trained_models.items():\n",
    "    y_pred = model.predict(X_test_tfidf)\n",
    "    results.append({\n",
    "        \"Model\": model_name,\n",
    "        \"Accuracy\": accuracy_score(y_test, y_pred),\n",
    "        \"Precision\": precision_score(y_test, y_pred, average='weighted', zero_division=0),\n",
    "        \"Recall\": recall_score(y_test, y_pred, average='weighted', zero_division=0),\n",
    "        \"F1 Score\": f1_score(y_test, y_pred, average='weighted', zero_division=0),\n",
    "        \"Training Time (s)\": training_times[model_name]\n",
    "    })\n",
    "\n",
    "results_df = pd.DataFrame(results)\n",
    "print(results_df)"
   ]
  },
  {
   "cell_type": "code",
   "execution_count": 11,
   "id": "35c6cbc4",
   "metadata": {},
   "outputs": [
    {
     "data": {
      "image/png": "[encoded data removed]",
      "text/plain": [
       "<Figure size 1200x600 with 1 Axes>"
      ]
     },
     "metadata": {},
     "output_type": "display_data"
    }
   ],
   "source": [
    "# Plot the results\n",
    "plt.figure(figsize=(12, 6))\n",
    "sns.barplot(\n",
    "    data=results_df.melt(id_vars=\"Model\", value_vars=[\"Accuracy\", \"Precision\", \"Recall\", \"F1 Score\"]),\n",
    "    x=\"Model\", y=\"value\", hue=\"variable\"\n",
    ")\n",
    "plt.title(\"Model Performance Metrics\")\n",
    "plt.ylabel(\"Score\")\n",
    "plt.ylim(0, 1.05)\n",
    "plt.legend(title=\"Metric\")\n",
    "plt.tight_layout()\n",
    "plt.show()"
   ]
  },
  {
   "cell_type": "code",
   "execution_count": 12,
   "id": "f51b946f",
   "metadata": {},
   "outputs": [],
   "source": [
    "best_model_name = \"Logistic Regression\"\n",
    "best_model = trained_models[best_model_name]"
   ]
  },
  {
   "cell_type": "code",
   "execution_count": 13,
   "id": "4158428e",
   "metadata": {},
   "outputs": [
    {
     "data": {
      "text/plain": [
       "['tfidf_vectorizer.pkl']"
      ]
     },
     "execution_count": 13,
     "metadata": {},
     "output_type": "execute_result"
    }
   ],
   "source": [
    "import joblib\n",
    "\n",
    "# Save the best model\n",
    "joblib.dump(best_model, f\"{best_model_name}_model.pkl\")\n",
    "\n",
    "# Save the TF-IDF vectorizer\n",
    "joblib.dump(tfidf, \"tfidf_vectorizer.pkl\")"
   ]
  },
  {
   "cell_type": "code",
   "execution_count": 14,
   "id": "4d1bcd3a",
   "metadata": {},
   "outputs": [],
   "source": [
    "import joblib\n",
    "\n",
    "def predict_text(text, model_name=\"nextspet\"):\n",
    "    # Load the vectorizer and the model\n",
    "    vectorizer = joblib.load(\"tfidf_vectorizer.pkl\")\n",
    "    model = joblib.load(f\"{model_name}_model.pkl\")  # Use model_name variable to dynamically load\n",
    "\n",
    "    # Transform the input text using the loaded vectorizer\n",
    "    vect_text = vectorizer.transform([text])\n",
    "\n",
    "    # Make prediction and return the result\n",
    "    return model.predict(vect_text)[0]\n"
   ]
  },
  {
   "cell_type": "code",
   "execution_count": 15,
   "id": "24cb7abb",
   "metadata": {},
   "outputs": [
    {
     "data": {
      "text/plain": [
       "['nextspet_model.pkl']"
      ]
     },
     "execution_count": 15,
     "metadata": {},
     "output_type": "execute_result"
    }
   ],
   "source": [
    "joblib.dump(best_model, \"nextspet_model.pkl\")"
   ]
  },
  {
   "cell_type": "code",
   "execution_count": 16,
   "id": "a6f3904c",
   "metadata": {},
   "outputs": [
    {
     "name": "stdout",
     "output_type": "stream",
     "text": [
      "Input Text: This is a new review text.\n",
      "Predicted Label: 0 (Fake Review/ Computer Generated)\n"
     ]
    }
   ],
   "source": [
    "text = \"This is a new review text.\"\n",
    "prediction = predict_text(text, model_name=\"nextspet\")\n",
    "\n",
    "# Mapping 0 and 1 to their meanings\n",
    "label_mapping = {0: \"Fake Review/ Computer Generated\", 1: \"Genuine Review\"}\n",
    "\n",
    "print(f\"Input Text: {text}\")\n",
    "print(f\"Predicted Label: {prediction} ({label_mapping.get(prediction, 'Unknown')})\")\n"
   ]
  },
  {
   "cell_type": "code",
   "execution_count": 17,
   "id": "73eadd3d",
   "metadata": {},
   "outputs": [
    {
     "name": "stdout",
     "output_type": "stream",
     "text": [
      "Input Text: I absolutely loved this product! The quality was top-notch, shipping was fast, and customer support was very helpful. Highly recommend to everyone.\n",
      "Predicted Label: 0 (Fake Review)\n"
     ]
    }
   ],
   "source": [
    "text = \"I absolutely loved this product! The quality was top-notch, shipping was fast, and customer support was very helpful. Highly recommend to everyone.\"\n",
    "prediction = predict_text(text, model_name=\"nextspet\")\n",
    "\n",
    "label_mapping = {0: \"Fake Review\", 1: \"Genuine Review\"}\n",
    "\n",
    "print(f\"Input Text: {text}\")\n",
    "print(f\"Predicted Label: {prediction} ({label_mapping.get(prediction, 'Unknown')})\")\n"
   ]
  },
  {
   "cell_type": "markdown",
   "id": "39f04161",
   "metadata": {},
   "source": [
    "# **MODEL M3 REPORT**\n",
    "✅ Chosen Model:\n",
    "Logistic Regression\n",
    "\n",
    "✅ Scores:\n",
    "\n",
    "Accuracy: 90.04%\n",
    "\n",
    "Precision: 90.05%\n",
    "\n",
    "Recall: 90.04%\n",
    "\n",
    "F1 Score: 90.04%\n",
    "\n",
    "✅ Saved Files:\n",
    "\n",
    "Model: logistic_model.pkl\n",
    "\n",
    "Vectorizer: tfidf_vectorizer.pkl\n",
    "\n",
    "✅ Prediction Function:\n",
    "\n",
    "python\n",
    "Copy code\n",
    "def predict_text(text, model_name=\"logistic\"):\n",
    "    vectorizer = joblib.load(\"tfidf_vectorizer.pkl\")\n",
    "    model = joblib.load(f\"{model_name}_model.pkl\")\n",
    "    vect_text = vectorizer.transform([text])\n",
    "    return model.predict(vect_text)[0]\n",
    "✅ Meaning of Predictions:\n",
    "\n",
    "0 → Fake Review\n",
    "\n",
    "1 → Genuine Review"
   ]
  },
  {
   "cell_type": "markdown",
   "id": "0f30eeca",
   "metadata": {},
   "source": []
  }
 ],
 "metadata": {
  "kernelspec": {
   "display_name": "amal.env",
   "language": "python",
   "name": "python3"
  },
  "language_info": {
   "codemirror_mode": {
    "name": "ipython",
    "version": 3
   },
   "file_extension": ".py",
   "mimetype": "text/x-python",
   "name": "python",
   "nbconvert_exporter": "python",
   "pygments_lexer": "ipython3",
   "version": "3.12.3"
  }
 },
 "nbformat": 4,
 "nbformat_minor": 5
}
