{
 "cells": [
  {
   "cell_type": "code",
   "execution_count": 55,
   "id": "7078a015",
   "metadata": {},
   "outputs": [],
   "source": [
    "import pandas as pd\n",
    "import numpy as np\n",
    "import re\n",
    "import matplotlib.pyplot as plt\n",
    "import seaborn as sns\n",
    "from sklearn.preprocessing import StandardScaler\n",
    "import nltk\n",
    "from nltk.corpus import stopwords\n",
    "from nltk.tokenize import word_tokenize\n",
    "from nltk.stem import WordNetLemmatizer\n",
    "\n"
   ]
  },
  {
   "cell_type": "code",
   "execution_count": 31,
   "id": "a5e5f153",
   "metadata": {},
   "outputs": [
    {
     "data": {
      "text/html": [
       "<div>\n",
       "<style scoped>\n",
       "    .dataframe tbody tr th:only-of-type {\n",
       "        vertical-align: middle;\n",
       "    }\n",
       "\n",
       "    .dataframe tbody tr th {\n",
       "        vertical-align: top;\n",
       "    }\n",
       "\n",
       "    .dataframe thead th {\n",
       "        text-align: right;\n",
       "    }\n",
       "</style>\n",
       "<table border=\"1\" class=\"dataframe\">\n",
       "  <thead>\n",
       "    <tr style=\"text-align: right;\">\n",
       "      <th></th>\n",
       "      <th>category</th>\n",
       "      <th>rating</th>\n",
       "      <th>label</th>\n",
       "      <th>text_</th>\n",
       "    </tr>\n",
       "  </thead>\n",
       "  <tbody>\n",
       "    <tr>\n",
       "      <th>0</th>\n",
       "      <td>Home_and_Kitchen_5</td>\n",
       "      <td>5.0</td>\n",
       "      <td>CG</td>\n",
       "      <td>Love this!  Well made, sturdy, and very comfor...</td>\n",
       "    </tr>\n",
       "    <tr>\n",
       "      <th>1</th>\n",
       "      <td>Home_and_Kitchen_5</td>\n",
       "      <td>5.0</td>\n",
       "      <td>CG</td>\n",
       "      <td>love it, a great upgrade from the original.  I...</td>\n",
       "    </tr>\n",
       "    <tr>\n",
       "      <th>2</th>\n",
       "      <td>Home_and_Kitchen_5</td>\n",
       "      <td>5.0</td>\n",
       "      <td>CG</td>\n",
       "      <td>This pillow saved my back. I love the look and...</td>\n",
       "    </tr>\n",
       "    <tr>\n",
       "      <th>3</th>\n",
       "      <td>Home_and_Kitchen_5</td>\n",
       "      <td>1.0</td>\n",
       "      <td>CG</td>\n",
       "      <td>Missing information on how to use it, but it i...</td>\n",
       "    </tr>\n",
       "    <tr>\n",
       "      <th>4</th>\n",
       "      <td>Home_and_Kitchen_5</td>\n",
       "      <td>5.0</td>\n",
       "      <td>CG</td>\n",
       "      <td>Very nice set. Good quality. We have had the s...</td>\n",
       "    </tr>\n",
       "    <tr>\n",
       "      <th>...</th>\n",
       "      <td>...</td>\n",
       "      <td>...</td>\n",
       "      <td>...</td>\n",
       "      <td>...</td>\n",
       "    </tr>\n",
       "    <tr>\n",
       "      <th>40427</th>\n",
       "      <td>Clothing_Shoes_and_Jewelry_5</td>\n",
       "      <td>4.0</td>\n",
       "      <td>OR</td>\n",
       "      <td>I had read some reviews saying that this bra r...</td>\n",
       "    </tr>\n",
       "    <tr>\n",
       "      <th>40428</th>\n",
       "      <td>Clothing_Shoes_and_Jewelry_5</td>\n",
       "      <td>5.0</td>\n",
       "      <td>CG</td>\n",
       "      <td>I wasn't sure exactly what it would be. It is ...</td>\n",
       "    </tr>\n",
       "    <tr>\n",
       "      <th>40429</th>\n",
       "      <td>Clothing_Shoes_and_Jewelry_5</td>\n",
       "      <td>2.0</td>\n",
       "      <td>OR</td>\n",
       "      <td>You can wear the hood by itself, wear it with ...</td>\n",
       "    </tr>\n",
       "    <tr>\n",
       "      <th>40430</th>\n",
       "      <td>Clothing_Shoes_and_Jewelry_5</td>\n",
       "      <td>1.0</td>\n",
       "      <td>CG</td>\n",
       "      <td>I liked nothing about this dress. The only rea...</td>\n",
       "    </tr>\n",
       "    <tr>\n",
       "      <th>40431</th>\n",
       "      <td>Clothing_Shoes_and_Jewelry_5</td>\n",
       "      <td>5.0</td>\n",
       "      <td>OR</td>\n",
       "      <td>I work in the wedding industry and have to wor...</td>\n",
       "    </tr>\n",
       "  </tbody>\n",
       "</table>\n",
       "<p>40432 rows × 4 columns</p>\n",
       "</div>"
      ],
      "text/plain": [
       "                           category  rating label  \\\n",
       "0                Home_and_Kitchen_5     5.0    CG   \n",
       "1                Home_and_Kitchen_5     5.0    CG   \n",
       "2                Home_and_Kitchen_5     5.0    CG   \n",
       "3                Home_and_Kitchen_5     1.0    CG   \n",
       "4                Home_and_Kitchen_5     5.0    CG   \n",
       "...                             ...     ...   ...   \n",
       "40427  Clothing_Shoes_and_Jewelry_5     4.0    OR   \n",
       "40428  Clothing_Shoes_and_Jewelry_5     5.0    CG   \n",
       "40429  Clothing_Shoes_and_Jewelry_5     2.0    OR   \n",
       "40430  Clothing_Shoes_and_Jewelry_5     1.0    CG   \n",
       "40431  Clothing_Shoes_and_Jewelry_5     5.0    OR   \n",
       "\n",
       "                                                   text_  \n",
       "0      Love this!  Well made, sturdy, and very comfor...  \n",
       "1      love it, a great upgrade from the original.  I...  \n",
       "2      This pillow saved my back. I love the look and...  \n",
       "3      Missing information on how to use it, but it i...  \n",
       "4      Very nice set. Good quality. We have had the s...  \n",
       "...                                                  ...  \n",
       "40427  I had read some reviews saying that this bra r...  \n",
       "40428  I wasn't sure exactly what it would be. It is ...  \n",
       "40429  You can wear the hood by itself, wear it with ...  \n",
       "40430  I liked nothing about this dress. The only rea...  \n",
       "40431  I work in the wedding industry and have to wor...  \n",
       "\n",
       "[40432 rows x 4 columns]"
      ]
     },
     "execution_count": 31,
     "metadata": {},
     "output_type": "execute_result"
    }
   ],
   "source": [
    "#load the dataset\n",
    "\n",
    "df =pd.read_csv(r\"C:\\Users\\lenovo\\OneDrive\\Desktop\\Fake Product Review Monitoring System\\fake reviews dataset.csv\")\n",
    "df"
   ]
  },
  {
   "cell_type": "code",
   "execution_count": 3,
   "id": "0250e743",
   "metadata": {},
   "outputs": [
    {
     "name": "stdout",
     "output_type": "stream",
     "text": [
      "<class 'pandas.core.frame.DataFrame'>\n",
      "RangeIndex: 40432 entries, 0 to 40431\n",
      "Data columns (total 4 columns):\n",
      " #   Column    Non-Null Count  Dtype  \n",
      "---  ------    --------------  -----  \n",
      " 0   category  40432 non-null  object \n",
      " 1   rating    40432 non-null  float64\n",
      " 2   label     40432 non-null  object \n",
      " 3   text_     40432 non-null  object \n",
      "dtypes: float64(1), object(3)\n",
      "memory usage: 1.2+ MB\n"
     ]
    }
   ],
   "source": [
    "df.info()"
   ]
  },
  {
   "cell_type": "code",
   "execution_count": 4,
   "id": "c3de9fb8",
   "metadata": {},
   "outputs": [
    {
     "data": {
      "text/html": [
       "<div>\n",
       "<style scoped>\n",
       "    .dataframe tbody tr th:only-of-type {\n",
       "        vertical-align: middle;\n",
       "    }\n",
       "\n",
       "    .dataframe tbody tr th {\n",
       "        vertical-align: top;\n",
       "    }\n",
       "\n",
       "    .dataframe thead th {\n",
       "        text-align: right;\n",
       "    }\n",
       "</style>\n",
       "<table border=\"1\" class=\"dataframe\">\n",
       "  <thead>\n",
       "    <tr style=\"text-align: right;\">\n",
       "      <th></th>\n",
       "      <th>category</th>\n",
       "      <th>rating</th>\n",
       "      <th>label</th>\n",
       "      <th>text_</th>\n",
       "    </tr>\n",
       "  </thead>\n",
       "  <tbody>\n",
       "    <tr>\n",
       "      <th>0</th>\n",
       "      <td>Home_and_Kitchen_5</td>\n",
       "      <td>5.0</td>\n",
       "      <td>CG</td>\n",
       "      <td>Love this!  Well made, sturdy, and very comfor...</td>\n",
       "    </tr>\n",
       "    <tr>\n",
       "      <th>1</th>\n",
       "      <td>Home_and_Kitchen_5</td>\n",
       "      <td>5.0</td>\n",
       "      <td>CG</td>\n",
       "      <td>love it, a great upgrade from the original.  I...</td>\n",
       "    </tr>\n",
       "    <tr>\n",
       "      <th>2</th>\n",
       "      <td>Home_and_Kitchen_5</td>\n",
       "      <td>5.0</td>\n",
       "      <td>CG</td>\n",
       "      <td>This pillow saved my back. I love the look and...</td>\n",
       "    </tr>\n",
       "    <tr>\n",
       "      <th>3</th>\n",
       "      <td>Home_and_Kitchen_5</td>\n",
       "      <td>1.0</td>\n",
       "      <td>CG</td>\n",
       "      <td>Missing information on how to use it, but it i...</td>\n",
       "    </tr>\n",
       "    <tr>\n",
       "      <th>4</th>\n",
       "      <td>Home_and_Kitchen_5</td>\n",
       "      <td>5.0</td>\n",
       "      <td>CG</td>\n",
       "      <td>Very nice set. Good quality. We have had the s...</td>\n",
       "    </tr>\n",
       "  </tbody>\n",
       "</table>\n",
       "</div>"
      ],
      "text/plain": [
       "             category  rating label  \\\n",
       "0  Home_and_Kitchen_5     5.0    CG   \n",
       "1  Home_and_Kitchen_5     5.0    CG   \n",
       "2  Home_and_Kitchen_5     5.0    CG   \n",
       "3  Home_and_Kitchen_5     1.0    CG   \n",
       "4  Home_and_Kitchen_5     5.0    CG   \n",
       "\n",
       "                                               text_  \n",
       "0  Love this!  Well made, sturdy, and very comfor...  \n",
       "1  love it, a great upgrade from the original.  I...  \n",
       "2  This pillow saved my back. I love the look and...  \n",
       "3  Missing information on how to use it, but it i...  \n",
       "4  Very nice set. Good quality. We have had the s...  "
      ]
     },
     "execution_count": 4,
     "metadata": {},
     "output_type": "execute_result"
    }
   ],
   "source": [
    "df.head()"
   ]
  },
  {
   "cell_type": "code",
   "execution_count": 5,
   "id": "e46f2d3b",
   "metadata": {},
   "outputs": [
    {
     "data": {
      "text/html": [
       "<div>\n",
       "<style scoped>\n",
       "    .dataframe tbody tr th:only-of-type {\n",
       "        vertical-align: middle;\n",
       "    }\n",
       "\n",
       "    .dataframe tbody tr th {\n",
       "        vertical-align: top;\n",
       "    }\n",
       "\n",
       "    .dataframe thead th {\n",
       "        text-align: right;\n",
       "    }\n",
       "</style>\n",
       "<table border=\"1\" class=\"dataframe\">\n",
       "  <thead>\n",
       "    <tr style=\"text-align: right;\">\n",
       "      <th></th>\n",
       "      <th>rating</th>\n",
       "    </tr>\n",
       "  </thead>\n",
       "  <tbody>\n",
       "    <tr>\n",
       "      <th>count</th>\n",
       "      <td>40432.000000</td>\n",
       "    </tr>\n",
       "    <tr>\n",
       "      <th>mean</th>\n",
       "      <td>4.256579</td>\n",
       "    </tr>\n",
       "    <tr>\n",
       "      <th>std</th>\n",
       "      <td>1.144354</td>\n",
       "    </tr>\n",
       "    <tr>\n",
       "      <th>min</th>\n",
       "      <td>1.000000</td>\n",
       "    </tr>\n",
       "    <tr>\n",
       "      <th>25%</th>\n",
       "      <td>4.000000</td>\n",
       "    </tr>\n",
       "    <tr>\n",
       "      <th>50%</th>\n",
       "      <td>5.000000</td>\n",
       "    </tr>\n",
       "    <tr>\n",
       "      <th>75%</th>\n",
       "      <td>5.000000</td>\n",
       "    </tr>\n",
       "    <tr>\n",
       "      <th>max</th>\n",
       "      <td>5.000000</td>\n",
       "    </tr>\n",
       "  </tbody>\n",
       "</table>\n",
       "</div>"
      ],
      "text/plain": [
       "             rating\n",
       "count  40432.000000\n",
       "mean       4.256579\n",
       "std        1.144354\n",
       "min        1.000000\n",
       "25%        4.000000\n",
       "50%        5.000000\n",
       "75%        5.000000\n",
       "max        5.000000"
      ]
     },
     "execution_count": 5,
     "metadata": {},
     "output_type": "execute_result"
    }
   ],
   "source": [
    "df.describe()"
   ]
  },
  {
   "cell_type": "code",
   "execution_count": 6,
   "id": "28eeed8b",
   "metadata": {},
   "outputs": [
    {
     "data": {
      "text/plain": [
       "category       10\n",
       "rating          5\n",
       "label           2\n",
       "text_       40412\n",
       "dtype: int64"
      ]
     },
     "execution_count": 6,
     "metadata": {},
     "output_type": "execute_result"
    }
   ],
   "source": [
    "df.nunique()\n"
   ]
  },
  {
   "cell_type": "code",
   "execution_count": 7,
   "id": "72a7e20b",
   "metadata": {},
   "outputs": [
    {
     "data": {
      "text/plain": [
       "category                      rating  label  text_                                                                                                                                                                                                                                                                                                                                                                                                                                                                                                                            \n",
       "Kindle_Store_5                5.0     CG     I received this story as an ARC in exchange for an honest review. The first book in the series was the prequel, \"A Moon Cracker,\" which was written by Holly Crane. I loved the characters, the story, and the plot. I enjoyed the story immensely. I was especially drawn to the heroine and her family.                                                                                                                                                                                                                            2\n",
       "                                             This is the first book in a series by the author I have read that I have been following.\\n\\nI had a lot of fun with this book and I am definitely looking forward to reading the next one.\\n\\nI received this book for free in exchange for an honest review.I was looking forward to reading the book, but the last part was so repetitive that I could not get into the book. I am glad I did.I enjoyed this book. I love how the heroine is a strong heroine who is strong. I liked how she was able to fight off the pain and    2\n",
       "Clothing_Shoes_and_Jewelry_5  5.0     CG     I bought this for a Halloween costume and it was just what I wanted! It's a pretty dress                                                                                                                                                                                                                                                                                                                                                                                                                                             2\n",
       "Books_5                       5.0     CG     I really enjoyed this book. The characters were well developed and the plot was well written.                                                                                                                                                                                                                                                                                                                                                                                                                                        2\n",
       "Movies_and_TV_5               5.0     CG     One of the best movies of the year.  Not for everyone.  But I was pretty impressed                                                                                                                                                                                                                                                                                                                                                                                                                                                   2\n",
       "                                                                                                                                                                                                                                                                                                                                                                                                                                                                                                                                                                                 ..\n",
       "Toys_and_Games_5              5.0     OR     well built, good enough for my 5 year old son who was jealous of his brother and his 30 dollar gloves. but really, most people who box for fun don't need professional grade gloves, adults and children alike. these gloves work for kids for sure. not toys, these are low cost, functional gloves for the basics/children                                                                                                                                                                                                         1\n",
       "                                             well made and fits 18 in Madame Alexander doll beautifully                                                                                                                                                                                                                                                                                                                                                                                                                                                                           1\n",
       "                                             when we lived at the beach, my grand daughter played with it all the time, then when we moved we gave it to a child on the beach who was thrilled to get it!                                                                                                                                                                                                                                                                                                                                                                         1\n",
       "                                             who would have thought this would be the hit toy at Xmas for my niece 5 and nephew 6 - the adults had fun with it too                                                                                                                                                                                                                                                                                                                                                                                                                1\n",
       "                                             works well for an inexpensive toy. We flew through batteries though.                                                                                                                                                                                                                                                                                                                                                                                                                                                                 1\n",
       "Name: count, Length: 40420, dtype: int64"
      ]
     },
     "execution_count": 7,
     "metadata": {},
     "output_type": "execute_result"
    }
   ],
   "source": [
    "df.value_counts()"
   ]
  },
  {
   "cell_type": "code",
   "execution_count": 8,
   "id": "a606dc33",
   "metadata": {},
   "outputs": [
    {
     "data": {
      "text/plain": [
       "(40432, 4)"
      ]
     },
     "execution_count": 8,
     "metadata": {},
     "output_type": "execute_result"
    }
   ],
   "source": [
    "df.shape\n"
   ]
  },
  {
   "cell_type": "code",
   "execution_count": 9,
   "id": "a60873e7",
   "metadata": {},
   "outputs": [
    {
     "data": {
      "text/plain": [
       "Index(['category', 'rating', 'label', 'text_'], dtype='object')"
      ]
     },
     "execution_count": 9,
     "metadata": {},
     "output_type": "execute_result"
    }
   ],
   "source": [
    "df.columns"
   ]
  },
  {
   "cell_type": "code",
   "execution_count": 10,
   "id": "d34586ac",
   "metadata": {},
   "outputs": [
    {
     "data": {
      "text/plain": [
       "category     object\n",
       "rating      float64\n",
       "label        object\n",
       "text_        object\n",
       "dtype: object"
      ]
     },
     "execution_count": 10,
     "metadata": {},
     "output_type": "execute_result"
    }
   ],
   "source": [
    "df.dtypes"
   ]
  },
  {
   "cell_type": "markdown",
   "id": "9dff5ff7",
   "metadata": {},
   "source": [
    "# cleaning the data"
   ]
  },
  {
   "cell_type": "code",
   "execution_count": 11,
   "id": "190d7383",
   "metadata": {},
   "outputs": [
    {
     "data": {
      "text/plain": [
       "<bound method Series.sum of 0        False\n",
       "1        False\n",
       "2        False\n",
       "3        False\n",
       "4        False\n",
       "         ...  \n",
       "40427    False\n",
       "40428    False\n",
       "40429    False\n",
       "40430    False\n",
       "40431    False\n",
       "Length: 40432, dtype: bool>"
      ]
     },
     "execution_count": 11,
     "metadata": {},
     "output_type": "execute_result"
    }
   ],
   "source": [
    "df.duplicated().sum"
   ]
  },
  {
   "cell_type": "code",
   "execution_count": 12,
   "id": "875e45ba",
   "metadata": {},
   "outputs": [
    {
     "data": {
      "text/plain": [
       "category    0\n",
       "rating      0\n",
       "label       0\n",
       "text_       0\n",
       "dtype: int64"
      ]
     },
     "execution_count": 12,
     "metadata": {},
     "output_type": "execute_result"
    }
   ],
   "source": [
    "df.isnull().sum()"
   ]
  },
  {
   "cell_type": "code",
   "execution_count": 24,
   "id": "d1f551dd",
   "metadata": {},
   "outputs": [
    {
     "name": "stdout",
     "output_type": "stream",
     "text": [
      "             category  rating  label  \\\n",
      "0  Home_and_Kitchen_5     5.0      1   \n",
      "1  Home_and_Kitchen_5     5.0      1   \n",
      "2  Home_and_Kitchen_5     5.0      1   \n",
      "3  Home_and_Kitchen_5     1.0      1   \n",
      "4  Home_and_Kitchen_5     5.0      1   \n",
      "\n",
      "                                               text_  word_count  \\\n",
      "0  love this well made sturdy and very comfortabl...          12   \n",
      "1  love it a great upgrade from the original ive ...          16   \n",
      "2  this pillow saved my back i love the look and ...          14   \n",
      "3  missing information on how to use it but it is...          17   \n",
      "4  very nice set good quality we have had the set...          18   \n",
      "\n",
      "   promotional_language  too_short  is_empty  gibberish  is_junk  \n",
      "0                  True      False     False      False    False  \n",
      "1                  True      False     False      False    False  \n",
      "2                 False      False     False      False    False  \n",
      "3                 False      False     False      False    False  \n",
      "4                 False      False     False      False    False  \n"
     ]
    }
   ],
   "source": [
    "def clean_text(text):\n",
    "    # Remove special characters and symbols, keep alphanumeric and spaces\n",
    "    text = re.sub(r'[^a-zA-Z0-9\\s]', '', text)\n",
    "    \n",
    "    # Convert to lowercase\n",
    "    text = text.lower()\n",
    "    \n",
    "    # Remove extra whitespace\n",
    "    text = ' '.join(text.split())\n",
    "    \n",
    "    return text\n",
    "\n",
    "# Apply cleaning to the 'text_' column\n",
    "df['text_'] = df['text_'].apply(clean_text)\n",
    "\n",
    "# Display first few rows of cleaned data\n",
    "print(df.head())"
   ]
  },
  {
   "cell_type": "code",
   "execution_count": 25,
   "id": "afe9abe3",
   "metadata": {},
   "outputs": [
    {
     "name": "stdout",
     "output_type": "stream",
     "text": [
      "                                                text_  word_count\n",
      "5         i wanted different flavors but they are not           8\n",
      "60  great cup will last forever keeps things cool ...           9\n",
      "62  excellent quality product perfect for my ccozinha           7\n",
      "72     purchased as a christmas gift she will love it           9\n",
      "80                     a little pricey for what it is           7\n"
     ]
    }
   ],
   "source": [
    "# Count number of words in each cleaned review\n",
    "df[\"word_count\"] = df[\"text_\"].apply(lambda x: len(x.split()))\n",
    "\n",
    "# Filter shorter reviews (e.g., less than 10 words)\n",
    "short_fake_reviews = df[df[\"word_count\"] < 10]\n",
    "\n",
    "# View some short fake-looking reviews\n",
    "print(short_fake_reviews[[\"text_\", \"word_count\"]].head())\n"
   ]
  },
  {
   "cell_type": "code",
   "execution_count": 15,
   "id": "9261d7d8",
   "metadata": {},
   "outputs": [
    {
     "name": "stdout",
     "output_type": "stream",
     "text": [
      "                                                text_\n",
      "0   love this well made sturdy and very comfortabl...\n",
      "1   love it a great upgrade from the original ive ...\n",
      "6   they are the perfect touch for me and the only...\n",
      "15  absolutely adorable and excellent price we hav...\n",
      "16  love this perfect size for an entire familyver...\n"
     ]
    }
   ],
   "source": [
    "# Define a set of common promotional/marketing words\n",
    "promotional_words = {\n",
    "    \"amazing\", \"excellent\", \"perfect\", \"incredible\", \"must-buy\", \"highly recommend\",\n",
    "    \"best ever\", \"life-changing\", \"awesome\", \"unbelievable\", \"fantastic\", \"outstanding\",\n",
    "    \"love it\", \"top-notch\", \"superb\", \"five stars\", \"exceptional\"\n",
    "}\n",
    "\n",
    "# Function to check if any promotional word is in the review\n",
    "def contains_promotional_language(text):\n",
    "    return any(word in text for word in promotional_words)\n",
    "\n",
    "# Apply to your cleaned_text column\n",
    "df[\"promotional_language\"] = df[\"text_\"].apply(contains_promotional_language)\n",
    "\n",
    "# Show a few flagged rows\n",
    "print(df[df[\"promotional_language\"] == True][[\"text_\"]].head())\n"
   ]
  },
  {
   "cell_type": "code",
   "execution_count": 32,
   "id": "f912fe83",
   "metadata": {},
   "outputs": [
    {
     "name": "stdout",
     "output_type": "stream",
     "text": [
      "             category  rating  label  \\\n",
      "0  Home_and_Kitchen_5     5.0      1   \n",
      "1  Home_and_Kitchen_5     5.0      1   \n",
      "2  Home_and_Kitchen_5     5.0      1   \n",
      "3  Home_and_Kitchen_5     1.0      1   \n",
      "4  Home_and_Kitchen_5     5.0      1   \n",
      "\n",
      "                                               text_  \n",
      "0  Love this!  Well made, sturdy, and very comfor...  \n",
      "1  love it, a great upgrade from the original.  I...  \n",
      "2  This pillow saved my back. I love the look and...  \n",
      "3  Missing information on how to use it, but it i...  \n",
      "4  Very nice set. Good quality. We have had the s...  \n",
      "label\n",
      "1    20216\n",
      "0    20216\n",
      "Name: count, dtype: int64\n"
     ]
    }
   ],
   "source": [
    "#label encoding\n",
    "df[\"label\"] = df[\"label\"].map({\"CG\": 1, \"OR\": 0})\n",
    "\n",
    "print(df.head())\n",
    "print(df[\"label\"].value_counts())\n"
   ]
  },
  {
   "cell_type": "code",
   "execution_count": 17,
   "id": "387cd59d",
   "metadata": {},
   "outputs": [
    {
     "data": {
      "text/html": [
       "<div>\n",
       "<style scoped>\n",
       "    .dataframe tbody tr th:only-of-type {\n",
       "        vertical-align: middle;\n",
       "    }\n",
       "\n",
       "    .dataframe tbody tr th {\n",
       "        vertical-align: top;\n",
       "    }\n",
       "\n",
       "    .dataframe thead th {\n",
       "        text-align: right;\n",
       "    }\n",
       "</style>\n",
       "<table border=\"1\" class=\"dataframe\">\n",
       "  <thead>\n",
       "    <tr style=\"text-align: right;\">\n",
       "      <th></th>\n",
       "      <th>category</th>\n",
       "      <th>rating</th>\n",
       "      <th>label</th>\n",
       "      <th>text_</th>\n",
       "      <th>word_count</th>\n",
       "      <th>promotional_language</th>\n",
       "    </tr>\n",
       "  </thead>\n",
       "  <tbody>\n",
       "    <tr>\n",
       "      <th>0</th>\n",
       "      <td>Home_and_Kitchen_5</td>\n",
       "      <td>5.0</td>\n",
       "      <td>1</td>\n",
       "      <td>love this well made sturdy and very comfortabl...</td>\n",
       "      <td>12</td>\n",
       "      <td>True</td>\n",
       "    </tr>\n",
       "    <tr>\n",
       "      <th>1</th>\n",
       "      <td>Home_and_Kitchen_5</td>\n",
       "      <td>5.0</td>\n",
       "      <td>1</td>\n",
       "      <td>love it a great upgrade from the original ive ...</td>\n",
       "      <td>16</td>\n",
       "      <td>True</td>\n",
       "    </tr>\n",
       "    <tr>\n",
       "      <th>2</th>\n",
       "      <td>Home_and_Kitchen_5</td>\n",
       "      <td>5.0</td>\n",
       "      <td>1</td>\n",
       "      <td>this pillow saved my back i love the look and ...</td>\n",
       "      <td>14</td>\n",
       "      <td>False</td>\n",
       "    </tr>\n",
       "    <tr>\n",
       "      <th>3</th>\n",
       "      <td>Home_and_Kitchen_5</td>\n",
       "      <td>1.0</td>\n",
       "      <td>1</td>\n",
       "      <td>missing information on how to use it but it is...</td>\n",
       "      <td>17</td>\n",
       "      <td>False</td>\n",
       "    </tr>\n",
       "    <tr>\n",
       "      <th>4</th>\n",
       "      <td>Home_and_Kitchen_5</td>\n",
       "      <td>5.0</td>\n",
       "      <td>1</td>\n",
       "      <td>very nice set good quality we have had the set...</td>\n",
       "      <td>18</td>\n",
       "      <td>False</td>\n",
       "    </tr>\n",
       "    <tr>\n",
       "      <th>...</th>\n",
       "      <td>...</td>\n",
       "      <td>...</td>\n",
       "      <td>...</td>\n",
       "      <td>...</td>\n",
       "      <td>...</td>\n",
       "      <td>...</td>\n",
       "    </tr>\n",
       "    <tr>\n",
       "      <th>40427</th>\n",
       "      <td>Clothing_Shoes_and_Jewelry_5</td>\n",
       "      <td>4.0</td>\n",
       "      <td>0</td>\n",
       "      <td>i had read some reviews saying that this bra r...</td>\n",
       "      <td>329</td>\n",
       "      <td>False</td>\n",
       "    </tr>\n",
       "    <tr>\n",
       "      <th>40428</th>\n",
       "      <td>Clothing_Shoes_and_Jewelry_5</td>\n",
       "      <td>5.0</td>\n",
       "      <td>1</td>\n",
       "      <td>i wasnt sure exactly what it would be it is a ...</td>\n",
       "      <td>270</td>\n",
       "      <td>True</td>\n",
       "    </tr>\n",
       "    <tr>\n",
       "      <th>40429</th>\n",
       "      <td>Clothing_Shoes_and_Jewelry_5</td>\n",
       "      <td>2.0</td>\n",
       "      <td>0</td>\n",
       "      <td>you can wear the hood by itself wear it with t...</td>\n",
       "      <td>340</td>\n",
       "      <td>False</td>\n",
       "    </tr>\n",
       "    <tr>\n",
       "      <th>40430</th>\n",
       "      <td>Clothing_Shoes_and_Jewelry_5</td>\n",
       "      <td>1.0</td>\n",
       "      <td>1</td>\n",
       "      <td>i liked nothing about this dress the only reas...</td>\n",
       "      <td>278</td>\n",
       "      <td>True</td>\n",
       "    </tr>\n",
       "    <tr>\n",
       "      <th>40431</th>\n",
       "      <td>Clothing_Shoes_and_Jewelry_5</td>\n",
       "      <td>5.0</td>\n",
       "      <td>0</td>\n",
       "      <td>i work in the wedding industry and have to wor...</td>\n",
       "      <td>351</td>\n",
       "      <td>True</td>\n",
       "    </tr>\n",
       "  </tbody>\n",
       "</table>\n",
       "<p>40432 rows × 6 columns</p>\n",
       "</div>"
      ],
      "text/plain": [
       "                           category  rating  label  \\\n",
       "0                Home_and_Kitchen_5     5.0      1   \n",
       "1                Home_and_Kitchen_5     5.0      1   \n",
       "2                Home_and_Kitchen_5     5.0      1   \n",
       "3                Home_and_Kitchen_5     1.0      1   \n",
       "4                Home_and_Kitchen_5     5.0      1   \n",
       "...                             ...     ...    ...   \n",
       "40427  Clothing_Shoes_and_Jewelry_5     4.0      0   \n",
       "40428  Clothing_Shoes_and_Jewelry_5     5.0      1   \n",
       "40429  Clothing_Shoes_and_Jewelry_5     2.0      0   \n",
       "40430  Clothing_Shoes_and_Jewelry_5     1.0      1   \n",
       "40431  Clothing_Shoes_and_Jewelry_5     5.0      0   \n",
       "\n",
       "                                                   text_  word_count  \\\n",
       "0      love this well made sturdy and very comfortabl...          12   \n",
       "1      love it a great upgrade from the original ive ...          16   \n",
       "2      this pillow saved my back i love the look and ...          14   \n",
       "3      missing information on how to use it but it is...          17   \n",
       "4      very nice set good quality we have had the set...          18   \n",
       "...                                                  ...         ...   \n",
       "40427  i had read some reviews saying that this bra r...         329   \n",
       "40428  i wasnt sure exactly what it would be it is a ...         270   \n",
       "40429  you can wear the hood by itself wear it with t...         340   \n",
       "40430  i liked nothing about this dress the only reas...         278   \n",
       "40431  i work in the wedding industry and have to wor...         351   \n",
       "\n",
       "       promotional_language  \n",
       "0                      True  \n",
       "1                      True  \n",
       "2                     False  \n",
       "3                     False  \n",
       "4                     False  \n",
       "...                     ...  \n",
       "40427                 False  \n",
       "40428                  True  \n",
       "40429                 False  \n",
       "40430                  True  \n",
       "40431                  True  \n",
       "\n",
       "[40432 rows x 6 columns]"
      ]
     },
     "execution_count": 17,
     "metadata": {},
     "output_type": "execute_result"
    }
   ],
   "source": [
    "df"
   ]
  },
  {
   "cell_type": "code",
   "execution_count": 26,
   "id": "b9d9fb67",
   "metadata": {},
   "outputs": [
    {
     "data": {
      "text/plain": [
       "Index(['category', 'rating', 'label', 'text_', 'word_count',\n",
       "       'promotional_language', 'too_short', 'is_empty', 'gibberish',\n",
       "       'is_junk'],\n",
       "      dtype='object')"
      ]
     },
     "execution_count": 26,
     "metadata": {},
     "output_type": "execute_result"
    }
   ],
   "source": [
    "df.columns"
   ]
  },
  {
   "cell_type": "code",
   "execution_count": 19,
   "id": "5be55f3d",
   "metadata": {},
   "outputs": [],
   "source": [
    "#split the data for train test \n",
    "from sklearn.model_selection import train_test_split\n",
    "\n",
    "X = df[\"text_\"]\n",
    "y = df[\"label\"]\n",
    "\n",
    "X_train, X_test, y_train, y_test = train_test_split(X, y, test_size=0.2, random_state=42)\n"
   ]
  },
  {
   "cell_type": "code",
   "execution_count": 20,
   "id": "ae1a11fe",
   "metadata": {},
   "outputs": [],
   "source": [
    "#vectorize the text \n",
    "from sklearn.feature_extraction.text import TfidfVectorizer\n",
    "\n",
    "vectorizer = TfidfVectorizer(max_features=5000)\n",
    "X_train_vec = vectorizer.fit_transform(X_train)\n",
    "X_test_vec = vectorizer.transform(X_test)"
   ]
  },
  {
   "cell_type": "code",
   "execution_count": 46,
   "id": "479a2572",
   "metadata": {},
   "outputs": [
    {
     "data": {
      "text/plain": [
       "Index(['category', 'rating', 'label', 'text_'], dtype='object')"
      ]
     },
     "execution_count": 46,
     "metadata": {},
     "output_type": "execute_result"
    }
   ],
   "source": [
    "df.columns"
   ]
  },
  {
   "cell_type": "code",
   "execution_count": 54,
   "id": "2c16f7c2",
   "metadata": {},
   "outputs": [
    {
     "name": "stdout",
     "output_type": "stream",
     "text": [
      "Number of outliers in word_count: 4122\n",
      "    rating                                              text_\n",
      "3      1.0  Missing information on how to use it, but it i...\n",
      "13     1.0  These are so flimsy! They are not the quality ...\n",
      "26     2.0  Not what I am accustomed to. The only reason I...\n",
      "39     1.0  Awful experience, everything stuck, cooked eve...\n",
      "41     2.0  SHEET COLOR IS NICE BUY FOR MY SIZE FOR MY TOW...\n",
      "Shape after removing outliers: (36310, 4)\n"
     ]
    }
   ],
   "source": [
    "# Assuming df is your DataFrame\n",
    "Q1 = df['rating'].quantile(0.25)\n",
    "Q3 = df['rating'].quantile(0.75)\n",
    "IQR = Q3 - Q1\n",
    "\n",
    "# Define bounds\n",
    "lower_bound = Q1 - 1.5 * IQR\n",
    "upper_bound = Q3 + 1.5 * IQR\n",
    "\n",
    "# Detect outliers\n",
    "outliers = df[(df['rating'] < lower_bound) | (df['rating'] > upper_bound)]\n",
    "\n",
    "print(\"Number of outliers in word_count:\", outliers.shape[0])\n",
    "print(outliers[['rating', 'text_']].head())\n",
    "\n",
    "# Filter out the outliers\n",
    "df_cleaned = df[(df['rating'] >= lower_bound) & (df['rating'] <= upper_bound)]\n",
    "print(\"Shape after removing outliers:\", df_cleaned.shape)"
   ]
  },
  {
   "cell_type": "code",
   "execution_count": 57,
   "id": "f65f1735",
   "metadata": {},
   "outputs": [
    {
     "data": {
      "image/png": "[encoded data removed]",
      "text/plain": [
       "<Figure size 1400x600 with 2 Axes>"
      ]
     },
     "metadata": {},
     "output_type": "display_data"
    }
   ],
   "source": [
    "# Original rating (before outlier removal)\n",
    "plt.figure(figsize=(14, 6))\n",
    "\n",
    "# Boxplot before\n",
    "plt.subplot(1, 2, 1)\n",
    "sns.boxplot(x=df['rating'], color='skyblue')\n",
    "plt.title(\"Boxplot - rating(Before Removing Outliers)\")\n",
    "\n",
    "# Boxplot after\n",
    "plt.subplot(1, 2, 2)\n",
    "sns.boxplot(x=df_cleaned['rating'], color='lightgreen')\n",
    "plt.title(\"Boxplot - rating (After Removing Outliers)\")\n",
    "\n",
    "plt.tight_layout()\n",
    "plt.show()\n"
   ]
  }
 ],
 "metadata": {
  "kernelspec": {
   "display_name": "Python 3",
   "language": "python",
   "name": "python3"
  },
  "language_info": {
   "codemirror_mode": {
    "name": "ipython",
    "version": 3
   },
   "file_extension": ".py",
   "mimetype": "text/x-python",
   "name": "python",
   "nbconvert_exporter": "python",
   "pygments_lexer": "ipython3",
   "version": "3.12.undefined"
  }
 },
 "nbformat": 4,
 "nbformat_minor": 5
}
